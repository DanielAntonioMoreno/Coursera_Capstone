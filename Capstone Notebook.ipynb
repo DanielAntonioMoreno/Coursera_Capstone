{
    "cells": [
        {
            "cell_type": "markdown",
            "metadata": {},
            "source": "# Coursera Capstone Project - Daniel M\n### Using Data Science to advise lawmakers on when to give the order to shelter in place "
        },
        {
            "cell_type": "code",
            "execution_count": 5,
            "metadata": {},
            "outputs": [
                {
                    "data": {
                        "text/html": "<div>\n<style scoped>\n    .dataframe tbody tr th:only-of-type {\n        vertical-align: middle;\n    }\n\n    .dataframe tbody tr th {\n        vertical-align: top;\n    }\n\n    .dataframe thead th {\n        text-align: right;\n    }\n</style>\n<table border=\"1\" class=\"dataframe\">\n  <thead>\n    <tr style=\"text-align: right;\">\n      <th></th>\n      <th>CRN</th>\n      <th>DISTRICT</th>\n      <th>COUNTY</th>\n      <th>MUNICIPALITY</th>\n      <th>POLICE_AGCY</th>\n      <th>CRASH_YEAR</th>\n      <th>CRASH_MONTH</th>\n      <th>DAY_OF_WEEK</th>\n      <th>TIME_OF_DAY</th>\n      <th>HOUR_OF_DAY</th>\n      <th>...</th>\n      <th>PED_DEATH_COUNT</th>\n      <th>PED_MAJ_INJ_COUNT</th>\n      <th>MAX_SEVERITY_LEVEL</th>\n      <th>COMM_VEH_COUNT</th>\n      <th>DEC_LAT</th>\n      <th>DEC_LONG</th>\n      <th>RDWY_SURF_TYPE_CD</th>\n      <th>COUNTY_NAME</th>\n      <th>MUNICIPALITY_NAME</th>\n      <th>COUNTY_YEAR</th>\n    </tr>\n  </thead>\n  <tbody>\n    <tr>\n      <th>0</th>\n      <td>2018001306</td>\n      <td>6</td>\n      <td>67</td>\n      <td>67301</td>\n      <td>67505</td>\n      <td>2018</td>\n      <td>1</td>\n      <td>3</td>\n      <td>953</td>\n      <td>9</td>\n      <td>...</td>\n      <td>0</td>\n      <td>0</td>\n      <td>4</td>\n      <td>0</td>\n      <td>39.9857</td>\n      <td>-75.1519</td>\n      <td>NaN</td>\n      <td>Philadelphia</td>\n      <td>Philadelphia City</td>\n      <td>CRASH_2018_Philadelphia</td>\n    </tr>\n    <tr>\n      <th>1</th>\n      <td>2018006142</td>\n      <td>6</td>\n      <td>67</td>\n      <td>67301</td>\n      <td>68K01</td>\n      <td>2018</td>\n      <td>1</td>\n      <td>5</td>\n      <td>934</td>\n      <td>9</td>\n      <td>...</td>\n      <td>0</td>\n      <td>0</td>\n      <td>3</td>\n      <td>0</td>\n      <td>39.9946</td>\n      <td>-75.0841</td>\n      <td>NaN</td>\n      <td>Philadelphia</td>\n      <td>Philadelphia City</td>\n      <td>CRASH_2018_Philadelphia</td>\n    </tr>\n    <tr>\n      <th>2</th>\n      <td>2018004176</td>\n      <td>6</td>\n      <td>67</td>\n      <td>67301</td>\n      <td>68K01</td>\n      <td>2018</td>\n      <td>1</td>\n      <td>1</td>\n      <td>1734</td>\n      <td>17</td>\n      <td>...</td>\n      <td>0</td>\n      <td>0</td>\n      <td>0</td>\n      <td>0</td>\n      <td>40.0402</td>\n      <td>-75.0058</td>\n      <td>NaN</td>\n      <td>Philadelphia</td>\n      <td>Philadelphia City</td>\n      <td>CRASH_2018_Philadelphia</td>\n    </tr>\n    <tr>\n      <th>3</th>\n      <td>2018005229</td>\n      <td>6</td>\n      <td>67</td>\n      <td>67301</td>\n      <td>68K01</td>\n      <td>2018</td>\n      <td>1</td>\n      <td>2</td>\n      <td>358</td>\n      <td>3</td>\n      <td>...</td>\n      <td>0</td>\n      <td>0</td>\n      <td>0</td>\n      <td>0</td>\n      <td>39.9599</td>\n      <td>-75.1793</td>\n      <td>NaN</td>\n      <td>Philadelphia</td>\n      <td>Philadelphia City</td>\n      <td>CRASH_2018_Philadelphia</td>\n    </tr>\n    <tr>\n      <th>4</th>\n      <td>2018002147</td>\n      <td>6</td>\n      <td>67</td>\n      <td>67301</td>\n      <td>67505</td>\n      <td>2018</td>\n      <td>1</td>\n      <td>5</td>\n      <td>2151</td>\n      <td>21</td>\n      <td>...</td>\n      <td>0</td>\n      <td>0</td>\n      <td>0</td>\n      <td>0</td>\n      <td>39.9805</td>\n      <td>-75.1600</td>\n      <td>NaN</td>\n      <td>Philadelphia</td>\n      <td>Philadelphia City</td>\n      <td>CRASH_2018_Philadelphia</td>\n    </tr>\n  </tbody>\n</table>\n<p>5 rows \u00d7 91 columns</p>\n</div>",
                        "text/plain": "          CRN  DISTRICT  COUNTY  MUNICIPALITY POLICE_AGCY  CRASH_YEAR  \\\n0  2018001306         6      67         67301       67505        2018   \n1  2018006142         6      67         67301       68K01        2018   \n2  2018004176         6      67         67301       68K01        2018   \n3  2018005229         6      67         67301       68K01        2018   \n4  2018002147         6      67         67301       67505        2018   \n\n   CRASH_MONTH  DAY_OF_WEEK  TIME_OF_DAY  HOUR_OF_DAY  ...  PED_DEATH_COUNT  \\\n0            1            3          953            9  ...                0   \n1            1            5          934            9  ...                0   \n2            1            1         1734           17  ...                0   \n3            1            2          358            3  ...                0   \n4            1            5         2151           21  ...                0   \n\n   PED_MAJ_INJ_COUNT  MAX_SEVERITY_LEVEL  COMM_VEH_COUNT  DEC_LAT  DEC_LONG  \\\n0                  0                   4               0  39.9857  -75.1519   \n1                  0                   3               0  39.9946  -75.0841   \n2                  0                   0               0  40.0402  -75.0058   \n3                  0                   0               0  39.9599  -75.1793   \n4                  0                   0               0  39.9805  -75.1600   \n\n   RDWY_SURF_TYPE_CD   COUNTY_NAME  MUNICIPALITY_NAME              COUNTY_YEAR  \n0                NaN  Philadelphia  Philadelphia City  CRASH_2018_Philadelphia  \n1                NaN  Philadelphia  Philadelphia City  CRASH_2018_Philadelphia  \n2                NaN  Philadelphia  Philadelphia City  CRASH_2018_Philadelphia  \n3                NaN  Philadelphia  Philadelphia City  CRASH_2018_Philadelphia  \n4                NaN  Philadelphia  Philadelphia City  CRASH_2018_Philadelphia  \n\n[5 rows x 91 columns]"
                    },
                    "execution_count": 5,
                    "metadata": {},
                    "output_type": "execute_result"
                }
            ],
            "source": "# The code was removed by Watson Studio for sharing."
        },
        {
            "cell_type": "code",
            "execution_count": 6,
            "metadata": {},
            "outputs": [
                {
                    "data": {
                        "text/plain": "(11003, 91)"
                    },
                    "execution_count": 6,
                    "metadata": {},
                    "output_type": "execute_result"
                }
            ],
            "source": "df.shape"
        },
        {
            "cell_type": "code",
            "execution_count": 15,
            "metadata": {},
            "outputs": [
                {
                    "data": {
                        "text/html": "<div>\n<style scoped>\n    .dataframe tbody tr th:only-of-type {\n        vertical-align: middle;\n    }\n\n    .dataframe tbody tr th {\n        vertical-align: top;\n    }\n\n    .dataframe thead th {\n        text-align: right;\n    }\n</style>\n<table border=\"1\" class=\"dataframe\">\n  <thead>\n    <tr style=\"text-align: right;\">\n      <th></th>\n      <th>CRN</th>\n      <th>DISTRICT</th>\n      <th>COUNTY</th>\n      <th>MUNICIPALITY</th>\n      <th>POLICE_AGCY</th>\n      <th>CRASH_YEAR</th>\n      <th>CRASH_MONTH</th>\n      <th>DAY_OF_WEEK</th>\n      <th>TIME_OF_DAY</th>\n      <th>HOUR_OF_DAY</th>\n      <th>...</th>\n      <th>PED_DEATH_COUNT</th>\n      <th>PED_MAJ_INJ_COUNT</th>\n      <th>MAX_SEVERITY_LEVEL</th>\n      <th>COMM_VEH_COUNT</th>\n      <th>DEC_LAT</th>\n      <th>DEC_LONG</th>\n      <th>RDWY_SURF_TYPE_CD</th>\n      <th>COUNTY_NAME</th>\n      <th>MUNICIPALITY_NAME</th>\n      <th>COUNTY_YEAR</th>\n    </tr>\n  </thead>\n  <tbody>\n    <tr>\n      <th>1629</th>\n      <td>2018082950</td>\n      <td>6</td>\n      <td>67</td>\n      <td>67301</td>\n      <td>68K01</td>\n      <td>2018</td>\n      <td>6</td>\n      <td>7</td>\n      <td>27</td>\n      <td>0</td>\n      <td>...</td>\n      <td>0</td>\n      <td>0</td>\n      <td>1</td>\n      <td>0</td>\n      <td>39.9828</td>\n      <td>-75.0996</td>\n      <td>2.0</td>\n      <td>Philadelphia</td>\n      <td>Philadelphia City</td>\n      <td>CRASH_2018_Philadelphia</td>\n    </tr>\n    <tr>\n      <th>10163</th>\n      <td>2019016021</td>\n      <td>6</td>\n      <td>67</td>\n      <td>67301</td>\n      <td>68K01</td>\n      <td>2018</td>\n      <td>12</td>\n      <td>2</td>\n      <td>2104</td>\n      <td>21</td>\n      <td>...</td>\n      <td>0</td>\n      <td>0</td>\n      <td>1</td>\n      <td>0</td>\n      <td>39.9832</td>\n      <td>-75.0987</td>\n      <td>1.0</td>\n      <td>Philadelphia</td>\n      <td>Philadelphia City</td>\n      <td>CRASH_2018_Philadelphia</td>\n    </tr>\n  </tbody>\n</table>\n<p>2 rows \u00d7 91 columns</p>\n</div>",
                        "text/plain": "              CRN  DISTRICT  COUNTY  MUNICIPALITY POLICE_AGCY  CRASH_YEAR  \\\n1629   2018082950         6      67         67301       68K01        2018   \n10163  2019016021         6      67         67301       68K01        2018   \n\n       CRASH_MONTH  DAY_OF_WEEK  TIME_OF_DAY  HOUR_OF_DAY  ...  \\\n1629             6            7           27            0  ...   \n10163           12            2         2104           21  ...   \n\n       PED_DEATH_COUNT  PED_MAJ_INJ_COUNT  MAX_SEVERITY_LEVEL  COMM_VEH_COUNT  \\\n1629                 0                  0                   1               0   \n10163                0                  0                   1               0   \n\n       DEC_LAT  DEC_LONG  RDWY_SURF_TYPE_CD   COUNTY_NAME  MUNICIPALITY_NAME  \\\n1629   39.9828  -75.0996                2.0  Philadelphia  Philadelphia City   \n10163  39.9832  -75.0987                1.0  Philadelphia  Philadelphia City   \n\n                   COUNTY_YEAR  \n1629   CRASH_2018_Philadelphia  \n10163  CRASH_2018_Philadelphia  \n\n[2 rows x 91 columns]"
                    },
                    "execution_count": 15,
                    "metadata": {},
                    "output_type": "execute_result"
                }
            ],
            "source": "from sklearn.linear_model import LinearRegression \ndf.dropna()"
        },
        {
            "cell_type": "code",
            "execution_count": 19,
            "metadata": {},
            "outputs": [],
            "source": "X = np.array(df['WEATHER']).reshape(-1, 1)\nY = np.array(df['INJURY_COUNT']).reshape(-1, 1)\nX = X[0:100]\nY = Y[0:100]"
        },
        {
            "cell_type": "code",
            "execution_count": 20,
            "metadata": {},
            "outputs": [
                {
                    "data": {
                        "text/plain": "LinearRegression(copy_X=True, fit_intercept=True, n_jobs=None,\n         normalize=False)"
                    },
                    "execution_count": 20,
                    "metadata": {},
                    "output_type": "execute_result"
                }
            ],
            "source": "regr = LinearRegression() \nregr.fit(X,Y)"
        },
        {
            "cell_type": "code",
            "execution_count": 22,
            "metadata": {},
            "outputs": [
                {
                    "name": "stdout",
                    "output_type": "stream",
                    "text": "0.005380991584590933\n"
                }
            ],
            "source": "print(regr.score(X, Y))"
        },
        {
            "cell_type": "code",
            "execution_count": 24,
            "metadata": {},
            "outputs": [
                {
                    "data": {
                        "text/plain": "array([[0.06268925]])"
                    },
                    "execution_count": 24,
                    "metadata": {},
                    "output_type": "execute_result"
                }
            ],
            "source": "regr.coef_"
        },
        {
            "cell_type": "code",
            "execution_count": null,
            "metadata": {},
            "outputs": [],
            "source": ""
        }
    ],
    "metadata": {
        "kernelspec": {
            "display_name": "Python 3.6",
            "language": "python",
            "name": "python3"
        },
        "language_info": {
            "codemirror_mode": {
                "name": "ipython",
                "version": 3
            },
            "file_extension": ".py",
            "mimetype": "text/x-python",
            "name": "python",
            "nbconvert_exporter": "python",
            "pygments_lexer": "ipython3",
            "version": "3.6.9"
        }
    },
    "nbformat": 4,
    "nbformat_minor": 1
}