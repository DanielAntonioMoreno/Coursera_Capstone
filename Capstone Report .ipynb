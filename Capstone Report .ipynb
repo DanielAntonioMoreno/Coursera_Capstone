{
    "cells": [
        {
            "cell_type": "markdown",
            "metadata": {},
            "source": "# Analysis of Automobile Accidents and Weather in Philadelphia \n## Daniel M"
        },
        {
            "cell_type": "markdown",
            "metadata": {},
            "source": "### Introduction"
        },
        {
            "cell_type": "markdown",
            "metadata": {},
            "source": "A frequent problem that lawmakers have to face is when to go into a \"state of emergency\" or give the order for citizens to shelter in place. When there are particular dangerous weather conditions, governments have the ability to give the order to citizens to \"shelter in place\" meaning that they should not be seen outside of their own properties. The lawmakers do this in an attempt to prevent unnecessary loss of life by commuting in dangerous conditions. In even more dangerous circumstances they can start a state of emergency or urge citizens to evacuate. However, giving the order to shelter in place or to evacuate, lawmakers face the possibility of significantly harming the local economy, and putting citizens at the poverty level in even more dangerous conditions. My analysis can help lawmakers decide when to take steps to shut down roads in order to prevent accidents. Lawmakers would be able to set a threshold for the amount of accidents, and given past weather and accident data we can determine at what weather points do higher level of accidents tend to occur. I have decided to use a Linear Regression to show the relationship between the weather and the amount of accidents. "
        },
        {
            "cell_type": "markdown",
            "metadata": {},
            "source": "### Data  "
        },
        {
            "cell_type": "markdown",
            "metadata": {},
            "source": "In order to make a good  Linear Regression we must have sufficient data on both the amount of accidents that occur per day and the weather conditions of that specific day. In order to find all the accidents I went and got data from PennDOT (The Pennsylvania Department of Transportation) and weather data from the NOAA. I looked at the year 2018 since that was the crash data that was available. A brief look at the data shows that there were approximately 11,000 automobile accidents in the year 2018 in Philadelphia. The weather was marked as 1 for normal, and with increasing numbers showing more hazardous weather. This allowed for a simple regression to be performed. "
        },
        {
            "cell_type": "markdown",
            "metadata": {},
            "source": "### Methodology "
        },
        {
            "cell_type": "markdown",
            "metadata": {},
            "source": "The first step in analyzing this data was to clean it and combine the data. The weather and crash data come from different sources and drop many of the unnecessary features. I kept the columns keeping the amount of rainfall and the wind speed. Finally I ran a Multiple Regressions model in order to determine the relationship between the amount of accidents and the weather."
        },
        {
            "cell_type": "markdown",
            "metadata": {},
            "source": "### Results "
        },
        {
            "cell_type": "markdown",
            "metadata": {},
            "source": "After cleaning the data and running the regression, I found the following equation relating the weather and the total amount of injuries. I found the equation relating the 2 as y = 0.06x. Where Y is the amount of accidents and X is the weather, with an R^2 value of 0.005.  "
        },
        {
            "cell_type": "markdown",
            "metadata": {},
            "source": "### Discussion"
        },
        {
            "cell_type": "markdown",
            "metadata": {},
            "source": "The data shows that there is a very weak relationship between the rain and increase in the amount of accidents. Lawmakers may be able to use a more sophisticated regression to approximate the amount of accidents that will occur in any given weather situation. There are a few ways that the analysis done in this report can be improved. For example, the weather data was only looking at the averages of the day. "
        },
        {
            "cell_type": "markdown",
            "metadata": {},
            "source": "### Conclusion"
        },
        {
            "cell_type": "markdown",
            "metadata": {},
            "source": ""
        }
    ],
    "metadata": {
        "kernelspec": {
            "display_name": "Python 3.6",
            "language": "python",
            "name": "python3"
        },
        "language_info": {
            "codemirror_mode": {
                "name": "ipython",
                "version": 3
            },
            "file_extension": ".py",
            "mimetype": "text/x-python",
            "name": "python",
            "nbconvert_exporter": "python",
            "pygments_lexer": "ipython3",
            "version": "3.6.9"
        }
    },
    "nbformat": 4,
    "nbformat_minor": 1
}