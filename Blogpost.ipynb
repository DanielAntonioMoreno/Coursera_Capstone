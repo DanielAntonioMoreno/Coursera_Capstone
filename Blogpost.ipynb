{
    "cells": [
        {
            "cell_type": "markdown",
            "metadata": {
                "collapsed": true
            },
            "source": "# Coursera Capstone Blogpost"
        },
        {
            "cell_type": "markdown",
            "metadata": {},
            "source": "Hello everyone! In this blogpost I will share the research I did to discover the relationship between the weather conditions and the amount of automobile related injuries there are. In order to complete this research I began by thinking about how this might actually help lawmakers. Lawmakers frequently have the option of ordering citizens to shelter in place, evacuate, or to declare a state of emergency. All of these actions limit their citizens in their transportation in different ways, and seek to reduce the amount of injuries caused by dangerous weather conditions. However, enacting each of these orders cause differing amounts of economic harm and it can be difficult to decide which one to use in order to preserve the most amount of life. It is unreasonable to assume that lawmakers can order citizens to evacuate for a rainstorm which may only slightly increase the probability of being in a car accident. But it may seem much more reasonable if there is a hurricane coming. In order to try and capture the relationship between the weather and amount of automobile injuries I focused in on the city of Philadelphia, in Pennsylvania (United States). I assumed that the weather was somewhat uniform throughout the city and gathered accident data from PennDOT (The Pennsylvania Department of Transportation) and weather data from NOAA. I merged the data sources and ran a linear regression relating the weather to the amount of injuries. Unfortunately, I found a small slope, indicating that more severe weather had little impact on the amount of injuries, and to add insult to injury, a very small R^2 value indicating a low fit for the data. In the future I plan to find more dat"
        }
    ],
    "metadata": {
        "kernelspec": {
            "display_name": "Python 3.6",
            "language": "python",
            "name": "python3"
        },
        "language_info": {
            "codemirror_mode": {
                "name": "ipython",
                "version": 3
            },
            "file_extension": ".py",
            "mimetype": "text/x-python",
            "name": "python",
            "nbconvert_exporter": "python",
            "pygments_lexer": "ipython3",
            "version": "3.6.9"
        }
    },
    "nbformat": 4,
    "nbformat_minor": 1
}